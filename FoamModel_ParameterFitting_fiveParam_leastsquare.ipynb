{
 "cells": [
  {
   "cell_type": "code",
   "execution_count": 1,
   "metadata": {
    "collapsed": true
   },
   "outputs": [],
   "source": [
    "# Python script to estimate the STARS foam model parameter from experimental data. \n",
    "# This is a python adoption of a Julia script written by A.A. Eftekhari, see https://github.com/simulkade/foamparameters. \n",
    "# The optimization solver does not handle the bound constraints very well. It needs to be improved."
   ]
  },
  {
   "cell_type": "code",
   "execution_count": 2,
   "metadata": {
    "collapsed": true
   },
   "outputs": [],
   "source": [
    "import matplotlib as mpl\n",
    "import numpy as np\n",
    "import pandas as pd\n",
    "import CoolProp.CoolProp as CP\n",
    "from scipy import stats, optimize\n",
    "from sklearn import linear_model\n",
    "mpl.use('TkAgg')\n",
    "import matplotlib.pyplot as plt\n",
    "######################################################################\n",
    "# Plot configurations\n",
    "# mpl.style.use('classic')\n",
    "mpl.rcParams['lines.linewidth'] = 1.0\n",
    "mpl.rcParams['lines.dashed_pattern'] = [6, 6]\n",
    "mpl.rcParams['lines.dashdot_pattern'] = [3, 5, 1, 5]\n",
    "mpl.rcParams['lines.dotted_pattern'] = [1, 3]\n",
    "mpl.rcParams['lines.scale_dashes'] = False\n",
    "\n",
    "mpl.rcParams['grid.color'] = 'k'\n",
    "mpl.rcParams['grid.linestyle'] = ':'\n",
    "mpl.rcParams['grid.linewidth'] = 0.5\n",
    "\n",
    "mpl.rcParams['axes.autolimit_mode'] = 'round_numbers'\n",
    "mpl.rcParams['axes.xmargin'] = 0\n",
    "mpl.rcParams['axes.ymargin'] = 0\n",
    "######################################################################\n",
    "%matplotlib inline"
   ]
  },
  {
   "cell_type": "code",
   "execution_count": 3,
   "metadata": {},
   "outputs": [],
   "source": [
    "def find_indices(vector, condition):\n",
    "    return [i for i, elem in enumerate(vector) if condition(elem)]\n",
    "\n",
    "\n",
    "def relative_sort(vector1, vector2):\n",
    "    return [x for _, x in sorted(zip(vector1, vector2))]\n",
    "\n",
    "##########################$######################################\n",
    "\n",
    "def sws(s_w):\n",
    "    s_w = s_w.reshape([len(s_w),1])\n",
    "    s_ws = np.ndarray(shape=(len(s_w),1),\n",
    "                        buffer = np.zeros([len(s_w),1]),\n",
    "                        dtype = float)\n",
    "    b = ((s_w > swc) &  (s_w < (1-sgr))).astype(int)\n",
    "    c = (s_w>=(1-sgr)).astype(int)\n",
    "    s_ws = b * ((s_w-swc)/(1-sgr-swc)) + c * 1\n",
    "\n",
    "    return s_ws\n",
    "\n",
    "\n",
    "def krg(s_w):\n",
    "    s_w = s_w.reshape([len(s_w),1])\n",
    "    kr_g = np.ndarray(shape=(len(s_w),1),\n",
    "                        buffer = np.zeros([len(s_w),1]),\n",
    "                        dtype = float)\n",
    "    b = (s_w >= swc).astype(int)\n",
    "    c = (s_w<swc).astype(int)\n",
    "    kr_g = b * (krg0 * (1-sws(s_w)) ** ng) + c *(1+(krg0-1)/swc * s_w)\n",
    "    return kr_g\n",
    "\n",
    "\n",
    "\n",
    "def krw(s_w):\n",
    "    s_w = s_w.reshape([len(s_w),1])\n",
    "    kr_w = np.ndarray(shape=(len(s_w),1),\n",
    "                        buffer = np.zeros([len(s_w),1]),\n",
    "                        dtype = float)\n",
    "    b = (s_w <= (1 - sgr)).astype(int)\n",
    "    c = (s_w > (1 - sgr)).astype(int)\n",
    "    kr_w = b * (krw0 * sws(s_w) ** nw) + c * ((-(1 - krw0) / sgr * (1.0 - s_w) + 1.0))\n",
    "    return kr_w\n",
    "\n",
    "\n",
    "def dryout(x, sw):\n",
    "    return 0.5 + np.arctan(x[1]*(sw-x[2]))/np.pi\n",
    "\n",
    "\n",
    "def fm_mod_f2(s_w, f2):\n",
    "    s_w = s_w.reshape([len(s_w),1])\n",
    "    fm = 1 + f2[0] * (0.5 + np.arctan(f2[1] * (s_w - f2[2])) / np.pi)\n",
    "    return fm\n",
    "\n",
    "\n",
    "def fg_mod_f2(s_w, f2):\n",
    "    krf = (krg(s_w) / fm_mod_f2(s_w, f2))\n",
    "    fg = ((krf / mug) / (krw(s_w) / muw + krf / mug))\n",
    "    return fg\n",
    "\n",
    "\n",
    "def muf_mod_f2(s_w, f2):\n",
    "    krf = (krg(s_w) / fm_mod_f2(s_w, f2))\n",
    "    mu_foam = (1 / (krw(s_w) / muw + krf / mug))\n",
    "    return mu_foam\n",
    "\n",
    "\n",
    "def fm_mod_f2f5(s_w, f2, f5, mu_f, u_t):\n",
    "    s_w = s_w.reshape([len(s_w),1])\n",
    "    mu_f = mu_f.reshape([len(mu_f),1])\n",
    "    fm = (1 + f2[0] * (0.5 + np.arctan(f2[1] * (s_w - f2[2])) / np.pi) *\n",
    "          (f5[0] / (mu_f * u_t / sigma_wg)) ** f5[1])\n",
    "    return fm\n",
    "\n",
    "\n",
    "def fg_mod_f2f5(s_w, f2, f5, mu_f, u_t):\n",
    "    krf = (krg(s_w) / fm_mod_f2f5(s_w, f2, f5, mu_f, u_t))\n",
    "    fg = ((krf / mug) / (krw(s_w) / muw + krf / mug))\n",
    "    return fg\n",
    "\n",
    "\n",
    "def muf_mod_f2f5(s_w, f2, f5, mu_f, u_t):\n",
    "    krf = (krg(s_w) / fm_mod_f2f5(s_w, f2, f5, mu_f, u_t))\n",
    "    mu_foam = (1 / (krw(s_w) / muw + krf / mug))\n",
    "    return mu_foam\n",
    "########################################################################\n"
   ]
  },
  {
   "cell_type": "code",
   "execution_count": 4,
   "metadata": {},
   "outputs": [],
   "source": [
    "data = pd.DataFrame(columns=['fg_exp','mu_exp','mu_water','mu_gas','u_exp','sw_exp'])\n",
    "data['fg_exp']=[0.264676088,\n",
    "0.364157014,\n",
    "0.450915715,\n",
    "0.551273595,\n",
    "0.657850261,\n",
    "0.789886259,\n",
    "0.900281824,\n",
    "0.98,\n",
    "0.993942691,\n",
    "0.998006973]\n",
    "\n",
    "data['mu_exp'] = [2.207600293,\n",
    "2.233287722,\n",
    "2.167805536,\n",
    "1.886005836,\n",
    "1.271612969,\n",
    "0.8030671747,\n",
    "0.4508865171,\n",
    "0.152343799,\n",
    "0.1643801433,\n",
    "0.08928165559]\n",
    "                  \n",
    "# data['u_exp'] = [1.4885E-05,\n",
    "# 1.5121E-05,\n",
    "# 1.5379E-05,\n",
    "# 1.5673E-05,\n",
    "# 1.5995E-05,\n",
    "# 1.6307E-05,\n",
    "# 1.6582E-05,\n",
    "# 1.6853E-05,\n",
    "# 1.62E-05,\n",
    "# 1.5489E-05]\n",
    "\n",
    "data['mu_water'] = np.ones(len(data))*1e-3\n",
    "\n",
    "data['mu_gas'] = np.ones(len(data))*2e-05\n",
    "\n",
    "data['u_exp'] = np.ones(len(data))*2.89e-6\n",
    "\n",
    "sigma_wg = 0.03 \n",
    "muw = data['mu_water'].iloc[0]\n",
    "mug = data['mu_gas'].iloc[0]"
   ]
  },
  {
   "cell_type": "code",
   "execution_count": 5,
   "metadata": {
    "collapsed": true
   },
   "outputs": [],
   "source": [
    "# Relperm data\n",
    "swc = 0.05                                                                     # connate water saturation [-]\n",
    "sgr = 0.03                                                                     # irreducable gas saturation [-]\n",
    "nw = 4.423                                                                     # Corey water exponent [-]\n",
    "ng = 0.938                                                                     # Corey gas exponent [-]\n",
    "krg0 = 0.587                                                                   # endpoint gas relative permeability [-]\n",
    "krw0 = 0.720"
   ]
  },
  {
   "cell_type": "code",
   "execution_count": 6,
   "metadata": {
    "scrolled": true
   },
   "outputs": [
    {
     "data": {
      "image/png": "[encoded data removed]",
      "text/plain": [
       "<Figure size 720x288 with 2 Axes>"
      ]
     },
     "metadata": {},
     "output_type": "display_data"
    }
   ],
   "source": [
    "sw_plt = np.linspace(0.0,1.0, 100)\n",
    "sw_plt = sw_plt.reshape([len(sw_plt),1])\n",
    "\n",
    "data['sw_exp'] = (1-swc-sgr)*(data['mu_water']*(1-data['fg_exp'])/(krw0*data['mu_exp']))**(1/nw)+swc\n",
    "sw_exp = data['sw_exp'].values.reshape([len(data['sw_exp'] ),1])\n",
    "\n",
    "krg_plt = krg(sw_plt)\n",
    "krw_plt = krw(sw_plt)\n",
    "\n",
    "plt.figure(1, figsize=[10,4])\n",
    "plt.subplot(1,2,1)\n",
    "plt.plot(data['fg_exp'], data['sw_exp'], \"o\")\n",
    "plt.xlabel(\"Foam quality\")\n",
    "plt.ylabel(\"Liquid saturation\")\n",
    "plt.legend([\"estimated\"])\n",
    "plt.grid()\n",
    "plt.tight_layout()\n",
    "\n",
    "plt.subplot(1,2,2)\n",
    "plt.plot(sw_plt, krw_plt, sw_plt, krg_plt)\n",
    "plt.xlabel(r\"$S_w$\")\n",
    "plt.ylabel(\"RelPerms\")\n",
    "plt.grid()\n",
    "plt.tight_layout()"
   ]
  },
  {
   "cell_type": "code",
   "execution_count": 7,
   "metadata": {
    "collapsed": true
   },
   "outputs": [],
   "source": [
    "transition = pd.DataFrame(np.nan,np.arange(1),columns=['trans_ind','fg_trans','mu_trans'])\n",
    "\n",
    "# transition fron low- to high-quality\n",
    "transition['trans_ind'] = data['mu_exp'].idxmax(axis=0, skipna=True)\n",
    "transition['fg_trans']  = data['fg_exp'].iloc[transition['trans_ind'].iloc[0]]\n",
    "transition['mu_trans']  = data['mu_exp'].iloc[transition['trans_ind'].iloc[0]]\n",
    "\n",
    "sw_trans = (1-swc-sgr)*(data['mu_water'].iloc[transition['trans_ind'].iloc[0]]* \\\n",
    "                        (1-transition['fg_trans'].iloc[0])/(krw0*transition['mu_trans'].iloc[0]))**(1/nw)+swc"
   ]
  },
  {
   "cell_type": "code",
   "execution_count": 8,
   "metadata": {},
   "outputs": [],
   "source": [
    "# Initial guess and bound constraints for least square parameter estimation\n",
    "# x0 = np.array([2.3e5,10000,0.17,1e-4 ,2.5])\n",
    "# # x0 = np.array([1e4, 1e4, 0.15, 0.001, 1.5])\n",
    "# # bound = ([10,10,swc,1e-4,0] , [1e8,1e5,sw_trans+0.05,1e-2,4])\n",
    "\n",
    "# lb                = [10,10,swc,1e-4,2.26]                            \n",
    "# ub                = [1e8,1e5,sw_trans+0.05,1e-3,4];      \n",
    "# bound =[lb,ub]\n",
    "\n",
    "# x_initial         = [2.3e5 100 0.22 1e-4 1.7];                             % initial guess\n",
    "# lb                = [1 1 0.19 1e-4 1.5];                                     % lower bound constraint\n",
    "# ub                = [1e9 1e5 0.3 1e-3 3];\n",
    "\n",
    "# np.ndarray((2,), buffer=np.array([1,2,3]),\n",
    "# ...            offset=np.int_().itemsize,\n",
    "# ...            dtype=int)\n",
    "\n",
    "x0 = np.ndarray(shape=(5,) , \n",
    "               buffer = np.array([2.3e5,1000,0.22,1e-4,1.7]),\n",
    "               dtype = float) \n",
    "\n",
    "lb = np.ndarray(shape=(5,) , \n",
    "               buffer = np.array([1,1,0.19,1e-4,1.4]),\n",
    "               dtype = float) \n",
    "ub = np.ndarray(shape=(5,) , \n",
    "               buffer = np.array([1e9,1e5,0.3,1e-3,3]),\n",
    "               dtype = float) \n",
    "bound =[lb,ub]\n",
    "\n",
    "w = np.ndarray(shape=(len(sw_exp),) , \n",
    "               buffer = np.ones(len(sw_exp,)),\n",
    "               dtype = float)\n",
    "\n",
    "\n",
    "# w[transition['trans_ind'].iloc[0]-3:transition['trans_ind'].iloc[0]-1] = 5e8\n",
    "# w[transition['trans_ind'].iloc[0]:transition['trans_ind'].iloc[0]+2] = 3e6\n",
    "\n",
    "# @variable(m4, 10<=fmmob4<=2e6)\n",
    "# @variable(m4, swc<=fmdry4<=sw_exp[ind_mu_max])\n",
    "# @variable(m4, 1e-5<=fmcap4<=1e-3)\n",
    "# @variable(m4, 2.26<=epcap4<=4.0)\n",
    "# w[[ind_mu_max-3:ind_mu_max-1]]   = 5e8     # fit 4\n",
    "# w[ind_mu_max]   = 3e6                      # fit 4\n",
    "# w[ind_mu_max+2] = 3e6 "
   ]
  },
  {
   "cell_type": "code",
   "execution_count": 14,
   "metadata": {},
   "outputs": [
    {
     "name": "stdout",
     "output_type": "stream",
     "text": [
      "           fmmob         epdry     fmdry   fmcap     epcap\n",
      "0  541208.445693  56252.363587  0.204396  0.0001  1.532435\n"
     ]
    }
   ],
   "source": [
    "# Least square \n",
    "labdaw = krw(sw_exp)/data['mu_water'].values.reshape(len(data['mu_water']),1)                                                 # water mobility\n",
    "labdag = krg(sw_exp)/data['mu_gas'].values.reshape(len(data['mu_gas']),1)           \n",
    "\n",
    "muf_exp = data['mu_exp'].values.reshape([len(data['mu_exp']),1])\n",
    "u_exp = data['u_exp'].values.reshape([len(data['u_exp']),1])\n",
    "\n",
    "# def misfit(x):\n",
    "#     return sum(w*(1.0-(1.0/(labdaw+labdag/(1.0+x[0]*(0.5+np.arctan(x[1]*(sw_exp-x[2]))/np.pi)*\n",
    "#                                            (x[3]/(u_exp*muf_exp/sigma_wg))**x[4])))/muf_exp)**2)\n",
    "\n",
    "def misfit(x):\n",
    "    return sum(w*(muf_mod_f2f5(sw_exp, x[0:3], x[3:5], muf_exp, u_exp) - muf_exp)**2)\n",
    "\n",
    "es = optimize.least_squares(misfit, x0, bounds=bound)\n",
    "\n",
    "foam_param = np.ndarray(shape=(5,1),dtype=float)\n",
    "foam_param = es.x.reshape([5,1])\n",
    "param_ls = pd.DataFrame(np.nan,np.arange(1),columns = ['fmmob','epdry','fmdry','fmcap','epcap'])\n",
    "param_ls['fmmob'] = foam_param[0, 0]\n",
    "param_ls['epdry'] = foam_param[1, 0]\n",
    "param_ls['fmdry'] = foam_param[2, 0]\n",
    "param_ls['fmcap'] = foam_param[3, 0]\n",
    "param_ls['epcap'] = foam_param[4, 0]\n",
    "\n",
    "print(param_ls)\n"
   ]
  },
  {
   "cell_type": "code",
   "execution_count": 15,
   "metadata": {},
   "outputs": [
    {
     "data": {
      "image/png": "[encoded data removed]",
      "text/plain": [
       "<Figure size 864x576 with 1 Axes>"
      ]
     },
     "metadata": {},
     "output_type": "display_data"
    }
   ],
   "source": [
    "# Fit visualization\n",
    "sw_val1 = np.append(np.linspace(0.0, np.min(sw_exp), 300),\n",
    "                     np.linspace(np.min(sw_exp)+np.finfo(float).eps, np.max(sw_exp), 300))\n",
    "sw_val = np.append(sw_val1, np.linspace(np.max(sw_exp) + np.finfo(float).eps, 1.0, 300))\n",
    "\n",
    "n1 = np.size(sw_val)\n",
    "muf_opt = np.ndarray(shape = (n1,1), buffer = np.zeros((n1, 1)),\n",
    "                     dtype= float)\n",
    "u_min = np.min(data['u_exp'])\n",
    "u_max = np.max(data['u_exp'])\n",
    "u_ave = float(np.mean(data['u_exp']))\n",
    "\n",
    "F22 = [foam_param[0, 0], foam_param[1, 0], foam_param[2, 0]]\n",
    "F52 = [foam_param[3, 0], foam_param[4, 0]]\n",
    "\n",
    "r = 0\n",
    "for s in sw_val:\n",
    "    ss = np.ndarray(shape = (1,),dtype=float)\n",
    "    ss[0] = s\n",
    "    def fmu2(x):\n",
    "        return float(x - muf_mod_f2f5(ss, F22, F52, x, u_ave))\n",
    "\n",
    "    sol = optimize.root(fmu2, 0.9)\n",
    "    muf_opt[r, 0] = sol.x\n",
    "    r = r + 1\n",
    "\n",
    "fg_opt = fg_mod_f2f5(sw_val, F22, F52, muf_opt, u_ave)\n",
    "muf_mod_opt = muf_mod_f2f5(sw_val, F22, F52, muf_opt, u_ave)\n",
    "\n",
    "plt.figure(figsize=[12,8])\n",
    "plt.plot(fg_opt, muf_mod_opt, \"k--\", linewidth=2,label='model')\n",
    "plt.plot(data['fg_exp'], data['mu_exp'], \"o\",markersize =12,label='experimental data')\n",
    "plt.ylabel(\"Foam apparent viscosity [Pa s]\",fontsize=15)\n",
    "plt.xlabel(\"Gas fractional flow [-]\",fontsize=15)\n",
    "plt.grid()\n",
    "plt.tight_layout()\n",
    "plt.legend(fontsize=15)\n",
    "\n",
    "plt.show()\n",
    "\n"
   ]
  },
  {
   "cell_type": "code",
   "execution_count": 39,
   "metadata": {},
   "outputs": [],
   "source": [
    "ss = np.ndarray(shape = (1,),dtype=float)\n",
    "ss[0] = s"
   ]
  },
  {
   "cell_type": "code",
   "execution_count": 40,
   "metadata": {},
   "outputs": [
    {
     "data": {
      "text/plain": [
       "array([ 0.])"
      ]
     },
     "execution_count": 40,
     "metadata": {},
     "output_type": "execute_result"
    }
   ],
   "source": [
    "ss"
   ]
  },
  {
   "cell_type": "code",
   "execution_count": null,
   "metadata": {
    "collapsed": true
   },
   "outputs": [],
   "source": []
  }
 ],
 "metadata": {
  "kernelspec": {
   "display_name": "Python 2",
   "language": "python",
   "name": "python2"
  },
  "language_info": {
   "codemirror_mode": {
    "name": "ipython",
    "version": 2
   },
   "file_extension": ".py",
   "mimetype": "text/x-python",
   "name": "python",
   "nbconvert_exporter": "python",
   "pygments_lexer": "ipython2",
   "version": "2.7.14"
  }
 },
 "nbformat": 4,
 "nbformat_minor": 2
}
