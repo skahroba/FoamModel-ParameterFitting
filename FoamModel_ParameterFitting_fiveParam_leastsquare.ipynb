{
 "cells": [
  {
   "cell_type": "code",
   "execution_count": 1,
   "metadata": {
    "collapsed": true
   },
   "outputs": [],
   "source": [
    "# Python script to estimate the STARS foam model parameter from experimental data. \n",
    "# This is a python adoption of a Julia script written by A.A. Eftekhari, see https://github.com/simulkade/foamparameters. \n",
    "# The optimization solver does not handle the bound constraints very well. It needs to be improved."
   ]
  },
  {
   "cell_type": "code",
   "execution_count": 2,
   "metadata": {
    "collapsed": true
   },
   "outputs": [],
   "source": [
    "import matplotlib as mpl\n",
    "import numpy as np\n",
    "import pandas as pd\n",
    "import CoolProp.CoolProp as CP\n",
    "from scipy import stats, optimize\n",
    "from sklearn import linear_model\n",
    "mpl.use('TkAgg')\n",
    "import matplotlib.pyplot as plt\n",
    "######################################################################\n",
    "# Plot configurations\n",
    "# mpl.style.use('classic')\n",
    "mpl.rcParams['lines.linewidth'] = 1.0\n",
    "mpl.rcParams['lines.dashed_pattern'] = [6, 6]\n",
    "mpl.rcParams['lines.dashdot_pattern'] = [3, 5, 1, 5]\n",
    "mpl.rcParams['lines.dotted_pattern'] = [1, 3]\n",
    "mpl.rcParams['lines.scale_dashes'] = False\n",
    "\n",
    "mpl.rcParams['grid.color'] = 'k'\n",
    "mpl.rcParams['grid.linestyle'] = ':'\n",
    "mpl.rcParams['grid.linewidth'] = 0.5\n",
    "\n",
    "mpl.rcParams['axes.autolimit_mode'] = 'round_numbers'\n",
    "mpl.rcParams['axes.xmargin'] = 0\n",
    "mpl.rcParams['axes.ymargin'] = 0\n",
    "######################################################################\n",
    "%matplotlib inline"
   ]
  },
  {
   "cell_type": "code",
   "execution_count": 3,
   "metadata": {
    "collapsed": true
   },
   "outputs": [],
   "source": [
    "def find_indices(vector, condition):\n",
    "    return [i for i, elem in enumerate(vector) if condition(elem)]\n",
    "\n",
    "\n",
    "def relative_sort(vector1, vector2):\n",
    "    return [x for _, x in sorted(zip(vector1, vector2))]\n",
    "\n",
    "##########################$######################################\n",
    "\n",
    "def sws(s_w):\n",
    "    s_w = np.reshape(s_w, (np.size(s_w), 1))\n",
    "    n_size = np.size(s_w, 0)\n",
    "    s_ws = np.zeros((n_size, 1))\n",
    "    for i in range(0, len(s_w)):\n",
    "        s = s_w[i]\n",
    "        if s > swc and s < (1-sgr):\n",
    "            s_ws[i, 0] = (s-swc)/(1-sgr-swc)\n",
    "        elif s>=(1-sgr):\n",
    "            s_ws[i, 0] = 1\n",
    "    return s_ws\n",
    "\n",
    "\n",
    "def krg(s_w):\n",
    "    s_w = np.reshape(s_w, (np.size(s_w), 1))\n",
    "    n_size = np.size(s_w, 0)\n",
    "    kr_g = np.zeros((n_size, 1))\n",
    "    for i in range(0, len(s_w)):\n",
    "        s = s_w[i]\n",
    "        if s >= swc:\n",
    "            kr_g[i, 0] = krg0 * (1-sws(s)) ** ng\n",
    "        elif s<swc:\n",
    "            kr_g[i, 0] = 1+(krg0-1)/swc * s\n",
    "    return kr_g\n",
    "\n",
    "\n",
    "def krw(s_w):\n",
    "    s_w = np.reshape(s_w, (np.size(s_w), 1))\n",
    "    n_size = np.size(s_w, 0)\n",
    "    kr_w = np.zeros((n_size, 1))\n",
    "    for i in range(0, len(s_w)):\n",
    "        s = s_w[i]\n",
    "        if s <= (1 - sgr):\n",
    "            kr_w[i, 0] = krw0 * sws(s) ** nw\n",
    "        elif s > (1 - sgr):\n",
    "            kr_w[i, 0] = (-(1 - krw0) / sgr * (1.0 - s) + 1.0)\n",
    "    return kr_w\n",
    "\n",
    "\n",
    "def dryout(x, sw):\n",
    "    return 0.5 + np.arctan(x[1]*(sw-x[2]))/np.pi\n",
    "\n",
    "\n",
    "def fm_mod_f2(s_w, f2):\n",
    "    s_w = np.reshape(s_w, (np.size(s_w), 1))\n",
    "    fm = 1 + f2[0] * (0.5 + np.arctan(f2[1] * (s_w - f2[2])) / np.pi)\n",
    "    return fm\n",
    "\n",
    "\n",
    "def fg_mod_f2(s_w, f2):\n",
    "    krf = (krg(s_w) / fm_mod_f2(s_w, f2))\n",
    "    fg = ((krf / mug) / (krw(s_w) / muw + krf / mug))\n",
    "    return fg\n",
    "\n",
    "\n",
    "def muf_mod_f2(s_w, f2):\n",
    "    krf = (krg(s_w) / fm_mod_f2(s_w, f2))\n",
    "    mu_foam = (1 / (krw(s_w) / muw + krf / mug))\n",
    "    return mu_foam\n",
    "\n",
    "\n",
    "def fm_mod_f2f5(s_w, f2, f5, mu_f, u_t):\n",
    "    s_w = np.reshape(s_w, (np.size(s_w), 1))\n",
    "    mu_f = np.reshape(mu_f, (np.size(mu_f), 1))\n",
    "    fm = (1 + f2[0] * (0.5 + np.arctan(f2[1] * (s_w - f2[2])) / np.pi) *\n",
    "          (f5[0] / (mu_f * u_t / sigma_wg)) ** f5[1])\n",
    "    return fm\n",
    "\n",
    "\n",
    "def fg_mod_f2f5(s_w, f2, f5, mu_f, u_t):\n",
    "    krf = (krg(s_w) / fm_mod_f2f5(s_w, f2, f5, mu_f, u_t))\n",
    "    fg = ((krf / mug) / (krw(s_w) / muw + krf / mug))\n",
    "    return fg\n",
    "\n",
    "\n",
    "def muf_mod_f2f5(s_w, f2, f5, mu_f, u_t):\n",
    "    krf = (krg(s_w) / fm_mod_f2f5(s_w, f2, f5, mu_f, u_t))\n",
    "    mu_foam = (1 / (krw(s_w) / muw + krf / mug))\n",
    "    return mu_foam\n",
    "########################################################################\n"
   ]
  },
  {
   "cell_type": "code",
   "execution_count": 24,
   "metadata": {},
   "outputs": [],
   "source": [
    "data = pd.DataFrame(columns=['fg','mu_tot','mu_water','mu_gas','ut'])\n",
    "data['fg']=[0.264676088,0.364157014,0.450915715,0.551273595,0.657850261,\n",
    "                0.789886259,0.900281824,0.98,0.993942691,0.998006973]\n",
    "\n",
    "data['mu_tot'] = [2.207600293,2.233287722,2.167805536,1.886005836,1.271612969,\n",
    "                  0.8030671747,0.4508865171,0.152343799,0.1643801433,0.08928165559]\n",
    "\n",
    "data['mu_water'] = np.ones(len(data))*1e-3\n",
    "\n",
    "data['mu_gas'] = np.ones(len(data))*2e-05\n",
    "\n",
    "data['ut'] = np.ones(len(data))*2.89e-6\n",
    "\n",
    "sigma_wg = 0.03 \n",
    "muw = data['mu_water'].iloc[0]\n",
    "mug = data['mu_gas'].iloc[0]"
   ]
  },
  {
   "cell_type": "code",
   "execution_count": 25,
   "metadata": {
    "collapsed": true
   },
   "outputs": [],
   "source": [
    "# Relperm data\n",
    "swc = 0.05                                                                     # connate water saturation [-]\n",
    "sgr = 0.03                                                                     # irreducable gas saturation [-]\n",
    "nw = 4.423                                                                     # Corey water exponent [-]\n",
    "ng = 0.938                                                                     # Corey gas exponent [-]\n",
    "krg0 = 0.587                                                                   # endpoint gas relative permeability [-]\n",
    "krw0 = 0.720"
   ]
  },
  {
   "cell_type": "code",
   "execution_count": 26,
   "metadata": {
    "scrolled": true
   },
   "outputs": [
    {
     "data": {
      "image/png": "[encoded data removed]",
      "text/plain": [
       "<Figure size 720x288 with 2 Axes>"
      ]
     },
     "metadata": {},
     "output_type": "display_data"
    }
   ],
   "source": [
    "# sw_exp = np.zeros((n_data, 1))\n",
    "sw_plt = np.reshape(np.linspace(0.0,1.0, 100), (len(np.linspace(0.0,1.0, 100)), 1))\n",
    "\n",
    "sw_exp = (1-swc-sgr)*(data['mu_water']*(1-data['fg'])/(krw0*data['mu_tot']))**(1/nw)+swc\n",
    "sw_exp = np.reshape(sw_exp,(len(sw_exp),1))\n",
    "\n",
    "krg_plt = krg(sw_plt)\n",
    "krw_plt = krw(sw_plt)\n",
    "\n",
    "plt.figure(1, figsize=[10,4])\n",
    "plt.subplot(1,2,1)\n",
    "plt.plot(data['fg'], sw_exp, \"o\")\n",
    "plt.xlabel(\"Foam quality\")\n",
    "plt.ylabel(\"Liquid saturation\")\n",
    "plt.legend([\"estimated\"])\n",
    "plt.grid()\n",
    "plt.tight_layout()\n",
    "\n",
    "plt.subplot(1,2,2)\n",
    "plt.plot(sw_plt, krw_plt, sw_plt, krg_plt)\n",
    "plt.xlabel(r\"$S_w$\")\n",
    "plt.ylabel(\"RelPerms\")\n",
    "plt.grid()\n",
    "plt.tight_layout()"
   ]
  },
  {
   "cell_type": "code",
   "execution_count": 27,
   "metadata": {},
   "outputs": [],
   "source": [
    "transition = pd.DataFrame(np.nan,np.arange(1),columns=['trans_ind','fg_trans','mu_trans'])\n",
    "\n",
    "# transition fron low- to high-quality\n",
    "transition['trans_ind'] = data['mu_tot'].idxmax(axis=0, skipna=True)\n",
    "transition['fg_trans']  = data['fg'].iloc[transition['trans_ind'].iloc[0]]\n",
    "transition['mu_trans']  = data['mu_tot'].iloc[transition['trans_ind'].iloc[0]]\n",
    "\n",
    "sw_trans = (1-swc-sgr)*(data['mu_water'].iloc[transition['trans_ind'].iloc[0]]* \\\n",
    "                        (1-transition['fg_trans'].iloc[0])/(krw0*transition['mu_trans'].iloc[0]))**(1/nw)+swc"
   ]
  },
  {
   "cell_type": "code",
   "execution_count": 31,
   "metadata": {},
   "outputs": [
    {
     "data": {
      "text/plain": [
       "0.206464916528037"
      ]
     },
     "execution_count": 31,
     "metadata": {},
     "output_type": "execute_result"
    }
   ],
   "source": [
    "sw_trans"
   ]
  },
  {
   "cell_type": "code",
   "execution_count": 32,
   "metadata": {},
   "outputs": [
    {
     "data": {
      "image/png": "[encoded data removed]",
      "text/plain": [
       "<Figure size 432x288 with 1 Axes>"
      ]
     },
     "metadata": {},
     "output_type": "display_data"
    },
    {
     "name": "stdout",
     "output_type": "stream",
     "text": [
      "           fmmob       epdry     fmdry     fmcap         epcap\n",
      "0  546273.386657  828.949698  0.203828  0.000112  8.990659e-11\n"
     ]
    }
   ],
   "source": [
    "# Least square \n",
    "labdaw = krw(sw_exp)/np.reshape(data['mu_water'],(len(data['mu_water']), 1))                                                 # water mobility\n",
    "labdag = krg(sw_exp)/np.reshape(data['mu_gas'],(len(data['mu_water']), 1))    \n",
    "\n",
    "w = np.ones((np.size(sw_exp), 1))\n",
    "w[transition['trans_ind'].iloc[0]-4:transition['trans_ind'].iloc[0]] = 1e7\n",
    "w[transition['trans_ind'].iloc[0]+1:transition['trans_ind'].iloc[0]+2] = 5e2\n",
    "\n",
    "muf_exp = np.reshape(data['mu_tot'],(len(data['mu_tot']),1))\n",
    "u = np.reshape(data['ut'],(len(data['ut']),1))\n",
    "\n",
    "def misfit(x):\n",
    "    return sum(w*(1.0-(1.0/(labdaw+labdag/(1.0+x[0]*(0.5+np.arctan(x[1]*(sw_exp-x[2]))/np.pi)*\n",
    "                                           (x[3]/(u*muf_exp/sigma_wg))**x[4])))/muf_exp)**2)\n",
    "\n",
    "x0 = np.array([2.3e5,100,0.22,1e-4 ,0])\n",
    "# x0 = np.array([1e4, 1e4, 0.15, 0.001, 1.5])\n",
    "bound = ([10,10,swc,1e-4,0] , [1e8,1e5,sw_trans+0.05,1e-2,4])\n",
    "\n",
    "es = optimize.least_squares(misfit, x0,\n",
    "                       bounds=bound)\n",
    "\n",
    "foam_param = np.zeros((5, 0))\n",
    "foam_param = es.x\n",
    "foam_param = np.reshape(foam_param, (len(foam_param), 1))\n",
    "\n",
    "sw_val1 = np.append(np.linspace(0.0, np.min(sw_exp), 100),\n",
    "                     np.linspace(np.min(sw_exp)+np.finfo(float).eps, np.max(sw_exp), 100))\n",
    "sw_val = np.append(sw_val1, np.linspace(np.max(sw_exp) + np.finfo(float).eps, 1.0, 100))\n",
    "\n",
    "n1 = np.size(sw_val)\n",
    "muf_opt = np.zeros((n1, 1))\n",
    "u_min = np.min(data['ut'])\n",
    "u_max = np.max(data['ut'])\n",
    "u_ave = float(np.mean(data['ut']))\n",
    "\n",
    "F22 = [foam_param[0, 0], foam_param[1, 0], foam_param[2, 0]]\n",
    "F52 = [foam_param[3, 0], foam_param[4, 0]]\n",
    "\n",
    "for i in range(0, n1):\n",
    "    sw_p = float(sw_val[i])\n",
    "\n",
    "    def fmu2(x):\n",
    "        return float(x - muf_mod_f2f5(sw_p, F22, F52, x, u_ave))\n",
    "\n",
    "    sol = optimize.root(fmu2, 0.9)\n",
    "    muf_opt[i, 0] = sol.x\n",
    "\n",
    "\n",
    "fg_opt = fg_mod_f2f5(sw_val, F22, F52, muf_opt, u_ave)\n",
    "muf_mod_opt = muf_mod_f2f5(sw_val, F22, F52, muf_opt, u_ave)\n",
    "\n",
    "plt.figure(3)\n",
    "plt.plot(fg_opt, muf_mod_opt, \"k--\", linewidth=2)\n",
    "plt.plot(data['fg'], data['mu_tot'], \"o\")\n",
    "plt.ylabel(\"Foam apparent viscosity\")\n",
    "plt.xlabel(\"Gas fractional flow\")\n",
    "plt.grid()\n",
    "plt.tight_layout()\n",
    "\n",
    "plt.show()\n",
    "\n",
    "param_ls = pd.DataFrame(np.nan,np.arange(1),columns = ['fmmob','epdry','fmdry','fmcap','epcap'])\n",
    "param_ls['fmmob'] = foam_param[0, 0]\n",
    "param_ls['epdry'] = foam_param[1, 0]\n",
    "param_ls['fmdry'] = foam_param[2, 0]\n",
    "param_ls['fmcap'] = foam_param[3, 0]\n",
    "param_ls['epcap'] = foam_param[4, 0]\n",
    "\n",
    "print(param_ls)"
   ]
  },
  {
   "cell_type": "code",
   "execution_count": 10,
   "metadata": {},
   "outputs": [
    {
     "name": "stderr",
     "output_type": "stream",
     "text": [
      "/Users/siavash/Software/anaconda2/lib/python2.7/site-packages/scipy/optimize/_minimize.py:394: RuntimeWarning: Method CG cannot handle constraints nor bounds.\n",
      "  RuntimeWarning)\n"
     ]
    },
    {
     "name": "stdout",
     "output_type": "stream",
     "text": [
      "Warning: Desired error not necessarily achieved due to precision loss.\n",
      "         Current function value: 1942.829806\n",
      "         Iterations: 4\n",
      "         Function evaluations: 642\n",
      "         Gradient evaluations: 105\n",
      "     fun: 1942.8298062667823\n",
      "     jac: array([ -5.17103485e+01,   5.41237127e+02,   1.47186327e+05,\n",
      "        -6.75877363e+04])\n",
      " message: 'Desired error not necessarily achieved due to precision loss.'\n",
      "    nfev: 642\n",
      "     nit: 4\n",
      "    njev: 105\n",
      "  status: 2\n",
      " success: False\n",
      "       x: array([  1.00000000e+03,   1.49999997e-01,   1.83369819e-03,\n",
      "         2.50000031e+00])\n",
      "[[  1.00000000e+03]\n",
      " [  1.00000000e+05]\n",
      " [  1.49999997e-01]\n",
      " [  1.83369819e-03]\n",
      " [  2.50000031e+00]]\n"
     ]
    },
    {
     "data": {
      "image/png": "[encoded data removed]",
      "text/plain": [
       "<Figure size 432x288 with 1 Axes>"
      ]
     },
     "metadata": {},
     "output_type": "display_data"
    }
   ],
   "source": [
    "labdaw = krw(sw_exp)/muw                                                  # water mobility\n",
    "labdag = krg(sw_exp)/mug\n",
    "\n",
    "# x0 = np.array([100000, 100000, 0.1696, 0.000175, 2.2222])\n",
    "x0 = np.array([1000, 0.15, 0.0001, 2.5])\n",
    "bound = ((10, 1e8), (swc, sw_trans), (1e-4, 1e-2), (2, 4))\n",
    "\n",
    "w = np.ones((np.size(sw_exp), 1))\n",
    "w[int(ind_mu_max)-4:int(ind_mu_max)] = 1e0\n",
    "w[int(ind_mu_max)+1:int(ind_mu_max)+2] = 5e5\n",
    "\n",
    "\n",
    "def misfit(x):\n",
    "    return sum(w*(1.0-(1.0/(labdaw+labdag/(1.0+x[0]*(0.5+np.arctan(1e5*(sw_exp-x[1]))/np.pi)*(x[2]/(u*muf_exp/sigma_wg))**x[3])))/muf_exp)**2)\n",
    "\n",
    "es = optimize.minimize(misfit, x0, method='CG', bounds=bound, options={'disp': True, 'eps': 1e-4})\n",
    "\n",
    "print(es)\n",
    "foam_param = np.zeros((5, 0))\n",
    "foam_param = np.insert(es.x, 1, 1e5)\n",
    "foam_param = np.reshape(foam_param, (len(foam_param), 1))\n",
    "\n",
    "sw_val1 = np.append(np.linspace(0.0, np.min(sw_exp), 100),\n",
    "                     np.linspace(np.min(sw_exp)+np.finfo(float).eps, np.max(sw_exp), 100))\n",
    "sw_val = np.append(sw_val1, np.linspace(np.max(sw_exp) + np.finfo(float).eps, 1.0, 100))\n",
    "\n",
    "n1 = np.size(sw_val)\n",
    "muf_opt = np.zeros((n1, 1))\n",
    "u_min = np.min(u)\n",
    "u_max = np.max(u)\n",
    "u_ave = float(np.mean(u))\n",
    "\n",
    "F22 = [foam_param[0, 0], foam_param[1, 0], foam_param[2, 0]]\n",
    "F52 = [foam_param[3, 0], foam_param[4, 0]]\n",
    "\n",
    "print(foam_param)\n",
    "for i in range(0, n1):\n",
    "    sw_p = float(sw_val[i])\n",
    "\n",
    "    def fmu2(x):\n",
    "        return float(x - muf_mod_f2f5(sw_p, F22, F52, x, u_ave))\n",
    "\n",
    "    sol = optimize.root(fmu2, 0.9)\n",
    "    muf_opt[i, 0] = sol.x\n",
    "\n",
    "\n",
    "fg_opt = fg_mod_f2f5(sw_val, F22, F52, muf_opt, u_ave)\n",
    "muf_mod_opt = muf_mod_f2f5(sw_val, F22, F52, muf_opt, u_ave)\n",
    "\n",
    "plt.figure(3)\n",
    "plt.plot(fg_opt, muf_mod_opt, \"k--\", linewidth=2)\n",
    "plt.plot(fg_exp, muf_exp, \"o\")\n",
    "plt.ylabel(\"Foam apparent viscosity\")\n",
    "plt.xlabel(\"Gas fractional flow\")\n",
    "plt.grid()\n",
    "plt.tight_layout()\n",
    "\n",
    "plt.show()\n"
   ]
  },
  {
   "cell_type": "code",
   "execution_count": null,
   "metadata": {
    "collapsed": true
   },
   "outputs": [],
   "source": []
  }
 ],
 "metadata": {
  "kernelspec": {
   "display_name": "Python 2",
   "language": "python",
   "name": "python2"
  },
  "language_info": {
   "codemirror_mode": {
    "name": "ipython",
    "version": 2
   },
   "file_extension": ".py",
   "mimetype": "text/x-python",
   "name": "python",
   "nbconvert_exporter": "python",
   "pygments_lexer": "ipython2",
   "version": "2.7.14"
  }
 },
 "nbformat": 4,
 "nbformat_minor": 2
}
