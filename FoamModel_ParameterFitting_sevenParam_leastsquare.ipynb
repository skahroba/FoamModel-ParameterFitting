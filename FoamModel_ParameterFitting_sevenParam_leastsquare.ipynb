{
 "cells": [
  {
   "cell_type": "code",
   "execution_count": 12,
   "metadata": {
    "collapsed": true
   },
   "outputs": [],
   "source": [
    "# Python script to estimate the STARS foam model parameter from experimental data. \n",
    "# This is a python adoption of a Julia script written by A.A. Eftekhari, see https://github.com/simulkade/foamparameters. \n",
    "# The optimization solver does not handle the bound constraints very well. It needs to be improved."
   ]
  },
  {
   "cell_type": "code",
   "execution_count": 1,
   "metadata": {
    "collapsed": true
   },
   "outputs": [],
   "source": [
    "import matplotlib as mpl\n",
    "import numpy as np\n",
    "import pandas as pd\n",
    "import CoolProp.CoolProp as CP\n",
    "from scipy import stats, optimize\n",
    "from sklearn import linear_model\n",
    "mpl.use('TkAgg')\n",
    "import matplotlib.pyplot as plt\n",
    "######################################################################\n",
    "# Plot configurations\n",
    "# mpl.style.use('classic')\n",
    "mpl.rcParams['lines.linewidth'] = 1.0\n",
    "mpl.rcParams['lines.dashed_pattern'] = [6, 6]\n",
    "mpl.rcParams['lines.dashdot_pattern'] = [3, 5, 1, 5]\n",
    "mpl.rcParams['lines.dotted_pattern'] = [1, 3]\n",
    "mpl.rcParams['lines.scale_dashes'] = False\n",
    "\n",
    "mpl.rcParams['grid.color'] = 'k'\n",
    "mpl.rcParams['grid.linestyle'] = ':'\n",
    "mpl.rcParams['grid.linewidth'] = 0.5\n",
    "\n",
    "mpl.rcParams['axes.autolimit_mode'] = 'round_numbers'\n",
    "mpl.rcParams['axes.xmargin'] = 0\n",
    "mpl.rcParams['axes.ymargin'] = 0\n",
    "######################################################################\n",
    "%matplotlib inline"
   ]
  },
  {
   "cell_type": "code",
   "execution_count": 31,
   "metadata": {
    "collapsed": true
   },
   "outputs": [],
   "source": [
    "def find_indices(vector, condition):\n",
    "    return [i for i, elem in enumerate(vector) if condition(elem)]\n",
    "\n",
    "\n",
    "def relative_sort(vector1, vector2):\n",
    "    return [x for _, x in sorted(zip(vector1, vector2))]\n",
    "\n",
    "##########################$######################################\n",
    "\n",
    "def sws(s_w):\n",
    "    s_w = np.reshape(s_w, (np.size(s_w), 1))\n",
    "    n_size = np.size(s_w, 0)\n",
    "    s_ws = np.zeros((n_size, 1))\n",
    "    for i in range(0, len(s_w)):\n",
    "        s = s_w[i]\n",
    "        if s > swc and s < (1-sgr):\n",
    "            s_ws[i, 0] = (s-swc)/(1-sgr-swc)\n",
    "        elif s>=(1-sgr):\n",
    "            s_ws[i, 0] = 1\n",
    "    return s_ws\n",
    "\n",
    "\n",
    "def krg(s_w):\n",
    "    s_w = np.reshape(s_w, (np.size(s_w), 1))\n",
    "    n_size = np.size(s_w, 0)\n",
    "    kr_g = np.zeros((n_size, 1))\n",
    "    for i in range(0, len(s_w)):\n",
    "        s = s_w[i]\n",
    "        if s >= swc:\n",
    "            kr_g[i, 0] = krg0 * (1-sws(s)) ** ng\n",
    "        elif s<swc:\n",
    "            kr_g[i, 0] = 1+(krg0-1)/swc * s\n",
    "    return kr_g\n",
    "\n",
    "\n",
    "def krw(s_w):\n",
    "    s_w = np.reshape(s_w, (np.size(s_w), 1))\n",
    "    n_size = np.size(s_w, 0)\n",
    "    kr_w = np.zeros((n_size, 1))\n",
    "    for i in range(0, len(s_w)):\n",
    "        s = s_w[i]\n",
    "        if s <= (1 - sgr):\n",
    "            kr_w[i, 0] = krw0 * sws(s) ** nw\n",
    "        elif s > (1 - sgr):\n",
    "            kr_w[i, 0] = (-(1 - krw0) / sgr * (1.0 - s) + 1.0)\n",
    "    return kr_w\n",
    "\n",
    "\n",
    "def dryout(x, sw):\n",
    "    return 0.5 + np.arctan(x[1]*(sw-x[2]))/np.pi\n",
    "\n",
    "########################################################################\n",
    "# three parameter function (fmmob,epdry,fmdry)\n",
    "def fm_mod_f2(s_w, f2):\n",
    "    s_w = np.reshape(s_w, (np.size(s_w), 1))\n",
    "    fm = 1 + f2[0] * (0.5 + np.arctan(f2[1] * (s_w - f2[2])) / np.pi)\n",
    "    return fm\n",
    "\n",
    "\n",
    "def fg_mod_f2(s_w, f2):\n",
    "    krf = (krg(s_w) / fm_mod_f2(s_w, f2))\n",
    "    fg = ((krf / mug) / (krw(s_w) / muw + krf / mug))\n",
    "    return fg\n",
    "\n",
    "\n",
    "def muf_mod_f2(s_w, f2):\n",
    "    krf = (krg(s_w) / fm_mod_f2(s_w, f2))\n",
    "    mu_foam = (1 / (krw(s_w) / muw + krf / mug))\n",
    "    return mu_foam\n",
    "\n",
    "########################################################################\n",
    "# five parameter function (fmmob,epdry,fmdry,fmcap,epcap)\n",
    "def fm_mod_f2f5(s_w, f2, f5, mu_f, u_t):\n",
    "    s_w = np.reshape(s_w, (np.size(s_w), 1))\n",
    "    mu_f = np.reshape(mu_f, (np.size(mu_f), 1))\n",
    "    fm = (1 + f2[0] * (0.5 + np.arctan(f2[1] * (s_w - f2[2])) / np.pi) *\n",
    "          (f5[0] / (mu_f * u_t / sigma_wg)) ** f5[1])\n",
    "    return fm\n",
    "\n",
    "\n",
    "def fg_mod_f2f5(s_w, f2, f5, mu_f, u_t):\n",
    "    krf = (krg(s_w) / fm_mod_f2f5(s_w, f2, f5, mu_f, u_t))\n",
    "    fg = ((krf / mug) / (krw(s_w) / muw + krf / mug))\n",
    "    return fg\n",
    "\n",
    "\n",
    "def muf_mod_f2f5(s_w, f2, f5, mu_f, u_t):\n",
    "    krf = (krg(s_w) / fm_mod_f2f5(s_w, f2, f5, mu_f, u_t))\n",
    "    mu_foam = (1 / (krw(s_w) / muw + krf / mug))\n",
    "    return mu_foam\n",
    "\n",
    "########################################################################\n",
    "# seven parameter function (fmmob,epdry,fmdry,fmcap,epcap,csurf,fmsurf,epsurf)\n",
    "\n",
    "def fm_mod_f1f2f5(s_w, f1,f2, f5, mu_f, u_t):\n",
    "    s_w = np.reshape(s_w, (np.size(s_w), 1))\n",
    "    mu_f = np.reshape(mu_f, (np.size(mu_f), 1))\n",
    "    fm = (1 + f2[0] * (0.5 + np.arctan(f2[1] * (s_w - f2[2])) / np.pi) *\n",
    "          ((f5[0] / (mu_f * u_t / sigma_wg)) ** f5[1])*(csurf/f1[0])**f1[1])\n",
    "    return fm\n",
    "\n",
    "def fg_mod_f1f2f5(s_w, f1, f2, f5, mu_f, u_t):\n",
    "    krf = (krg(s_w) / fm_mod_f1f2f5(s_w, f1, f2, f5, mu_f, u_t))\n",
    "    fg = ((krf / mug) / (krw(s_w) / muw + krf / mug))\n",
    "    return fg\n",
    "\n",
    "\n",
    "def muf_mod_f1f2f5(s_w, f1, f2, f5, mu_f, u_t):\n",
    "    krf = (krg(s_w) / fm_mod_f1f2f5(s_w, f1, f2, f5, mu_f, u_t))\n",
    "    mu_foam = (1 / (krw(s_w) / muw + krf / mug))\n",
    "    return mu_foam"
   ]
  },
  {
   "cell_type": "code",
   "execution_count": 32,
   "metadata": {
    "collapsed": true
   },
   "outputs": [],
   "source": [
    "data = pd.DataFrame(columns=['fg_exp','mu_exp','mu_water','mu_gas','u_exp','sw_exp'])\n",
    "data['fg_exp']=[0.11142,\n",
    "0.22251,\n",
    "0.33109,\n",
    "0.43742,\n",
    "0.54062,\n",
    "0.63953,\n",
    "0.73413,\n",
    "0.8256,\n",
    "0.90929,\n",
    "0.95256]\n",
    "\n",
    "data['mu_exp'] = [0.74646,\n",
    "0.82715,\n",
    "0.87918,\n",
    "0.93386,\n",
    "0.97559,\n",
    "1.0292,\n",
    "1.0814,\n",
    "1.1136,\n",
    "0.91593,\n",
    "0.36635]\n",
    "\n",
    "data['u_exp'] = [1.4885E-05,\n",
    "1.5121E-05,\n",
    "1.5379E-05,\n",
    "1.5673E-05,\n",
    "1.5995E-05,\n",
    "1.6307E-05,\n",
    "1.6582E-05,\n",
    "1.6853E-05,\n",
    "1.62E-05,\n",
    "1.5489E-05]\n",
    "\n",
    "data['mu_water'] = np.ones(len(data))*1e-3\n",
    "\n",
    "data['mu_gas'] = np.ones(len(data))*2e-05\n",
    "\n",
    "# data['u_exp'] = np.ones(len(data))*2.89e-6\n",
    "\n",
    "sigma_wg = 0.03 \n",
    "muw = data['mu_water'].iloc[0]\n",
    "mug = data['mu_gas'].iloc[0]"
   ]
  },
  {
   "cell_type": "code",
   "execution_count": 33,
   "metadata": {
    "collapsed": true
   },
   "outputs": [],
   "source": [
    "# Relperm data\n",
    "swc = 0.05                                                                     # connate water saturation [-]\n",
    "sgr = 0.03                                                                     # irreducable gas saturation [-]\n",
    "nw = 4.423                                                                     # Corey water exponent [-]\n",
    "ng = 0.938                                                                     # Corey gas exponent [-]\n",
    "krg0 = 0.587                                                                   # endpoint gas relative permeability [-]\n",
    "krw0 = 0.720"
   ]
  },
  {
   "cell_type": "code",
   "execution_count": 34,
   "metadata": {
    "scrolled": true
   },
   "outputs": [
    {
     "data": {
      "image/png": "[encoded data removed]",
      "text/plain": [
       "<Figure size 720x288 with 2 Axes>"
      ]
     },
     "metadata": {},
     "output_type": "display_data"
    }
   ],
   "source": [
    "# sw_exp = np.zeros((n_data, 1))\n",
    "sw_plt = np.reshape(np.linspace(0.0,1.0, 100), (len(np.linspace(0.0,1.0, 100)), 1))\n",
    "data['sw_exp'] = (1-swc-sgr)*(data['mu_water']*(1-data['fg_exp'])/(krw0*data['mu_exp']))**(1/nw)+swc\n",
    "# sw_exp = (1-swc-sgr)*(data['mu_water']*(1-data['fg_exp'])/(krw0*data['mu_exp']))**(1/nw)+swc\n",
    "sw_exp = np.reshape(data['sw_exp'] ,(len(data['sw_exp'] ),1))\n",
    "\n",
    "krg_plt = krg(sw_plt)\n",
    "krw_plt = krw(sw_plt)\n",
    "\n",
    "plt.figure(1, figsize=[10,4])\n",
    "plt.subplot(1,2,1)\n",
    "plt.plot(data['fg_exp'], data['sw_exp'], \"o\")\n",
    "plt.xlabel(\"Foam quality\")\n",
    "plt.ylabel(\"Liquid saturation\")\n",
    "plt.legend([\"estimated\"])\n",
    "plt.grid()\n",
    "plt.tight_layout()\n",
    "\n",
    "plt.subplot(1,2,2)\n",
    "plt.plot(sw_plt, krw_plt, sw_plt, krg_plt)\n",
    "plt.xlabel(r\"$S_w$\")\n",
    "plt.ylabel(\"RelPerms\")\n",
    "plt.grid()\n",
    "plt.tight_layout()"
   ]
  },
  {
   "cell_type": "code",
   "execution_count": 35,
   "metadata": {
    "collapsed": true
   },
   "outputs": [],
   "source": [
    "transition = pd.DataFrame(np.nan,np.arange(1),columns=['trans_ind','fg_trans','mu_trans'])\n",
    "\n",
    "# transition fron low- to high-quality\n",
    "transition['trans_ind'] = data['mu_exp'].idxmax(axis=0, skipna=True)\n",
    "transition['fg_trans']  = data['fg_exp'].iloc[transition['trans_ind'].iloc[0]]\n",
    "transition['mu_trans']  = data['mu_exp'].iloc[transition['trans_ind'].iloc[0]]\n",
    "\n",
    "sw_trans = (1-swc-sgr)*(data['mu_water'].iloc[transition['trans_ind'].iloc[0]]* \\\n",
    "                        (1-transition['fg_trans'].iloc[0])/(krw0*transition['mu_trans'].iloc[0]))**(1/nw)+swc"
   ]
  },
  {
   "cell_type": "code",
   "execution_count": 36,
   "metadata": {},
   "outputs": [],
   "source": [
    "# Initial guess and bound constraints for least square parameter estimation\n",
    "x0 = np.array([2.3e5,10000,0.17,1e-4 ,2.5,1])\n",
    "# x0 = np.array([1e4, 1e4, 0.15, 0.001, 1.5])\n",
    "# bound = ([10,10,swc,1e-4,0] , [1e8,1e5,sw_trans+0.05,1e-2,4])\n",
    "\n",
    "lb                = [10,10,swc,1e-4,2.26,1e-4]                            \n",
    "ub                = [1e8,1e5,sw_trans+0.05,1e-3,4,4];      \n",
    "bound =[lb,ub]\n",
    "\n",
    "w = np.ones((np.size(sw_exp), 1))\n",
    "\n",
    "w[transition['trans_ind'].iloc[0]-3:transition['trans_ind'].iloc[0]-1] = 5e8\n",
    "w[transition['trans_ind'].iloc[0]:transition['trans_ind'].iloc[0]+2] = 3e6\n",
    "\n",
    "csurf = 0.1\n",
    "fmsurf= 2"
   ]
  },
  {
   "cell_type": "code",
   "execution_count": 37,
   "metadata": {},
   "outputs": [
    {
     "name": "stdout",
     "output_type": "stream",
     "text": [
      "          fmmob         epdry     fmdry     fmcap     epcap    epsurf\n",
      "0  230812.32788  10006.862255  0.173241  0.000698  2.366915  0.773263\n"
     ]
    }
   ],
   "source": [
    "# Least square \n",
    "labdaw = krw(sw_exp)/np.reshape(data['mu_water'],(len(data['mu_water']), 1))                                                 # water mobility\n",
    "labdag = krg(sw_exp)/np.reshape(data['mu_gas'],(len(data['mu_water']), 1))    \n",
    "\n",
    "muf_exp = np.reshape(data['mu_exp'],(len(data['mu_exp']),1))\n",
    "u_exp = np.reshape(data['u_exp'],(len(data['u_exp']),1))\n",
    "\n",
    "# def misfit(x):\n",
    "#     return sum(w*(1.0-(1.0/(labdaw+labdag/(1.0+x[0]*(0.5+np.arctan(x[1]*(sw_exp-x[2]))/np.pi)*\n",
    "#                                            (x[3]/(u_exp*muf_exp/sigma_wg))**x[4])))/muf_exp)**2)\n",
    "\n",
    "def misfit(x):\n",
    "    return sum(w*(1.0-(1.0/(labdaw+labdag/(1.0+x[0]*(0.5+np.arctan(x[1]*(sw_exp-x[2]))/np.pi)*\n",
    "                                           (x[3]/(u_exp*muf_exp/sigma_wg))**x[4]*(csurf/fmsurf)**x[5])))/muf_exp)**2)\n",
    "\n",
    "\n",
    "\n",
    "es = optimize.least_squares(misfit, x0, bounds=bound)\n",
    "\n",
    "foam_param = np.zeros((5, 0))\n",
    "foam_param = es.x\n",
    "foam_param = np.reshape(foam_param, (len(foam_param), 1))\n",
    "param_ls = pd.DataFrame(np.nan,np.arange(1),columns = ['fmmob','epdry','fmdry','fmcap','epcap'])\n",
    "param_ls['fmmob'] = foam_param[0, 0]\n",
    "param_ls['epdry'] = foam_param[1, 0]\n",
    "param_ls['fmdry'] = foam_param[2, 0]\n",
    "param_ls['fmcap'] = foam_param[3, 0]\n",
    "param_ls['epcap'] = foam_param[4, 0]\n",
    "param_ls['epsurf'] = foam_param[5, 0]\n",
    "print(param_ls)\n"
   ]
  },
  {
   "cell_type": "code",
   "execution_count": 38,
   "metadata": {},
   "outputs": [
    {
     "data": {
      "text/plain": [
       "array([[  4.48469169e-06],\n",
       "       [  6.02406793e-06],\n",
       "       [  7.33541593e-06],\n",
       "       [  8.96502850e-06],\n",
       "       [  1.05673549e-05],\n",
       "       [  1.27363846e-05],\n",
       "       [  1.51349565e-05],\n",
       "       [  1.71808582e-05],\n",
       "       [  2.09626296e-05],\n",
       "       [  1.02147545e-06]])"
      ]
     },
     "execution_count": 38,
     "metadata": {},
     "output_type": "execute_result"
    }
   ],
   "source": [
    "fm_mod_f1f2f5(sw_exp, F12,F22, F52, muf_exp, u_exp)\n",
    "\n",
    "(krg(sw_exp) / fm_mod_f1f2f5(sw_exp, F12,F22, F52, muf_exp, u_exp))\n",
    "# fg_mod_f1f2f5(sw_exp, F12,F22, F52, muf_exp, u_exp)\n",
    "#     krf = (krg(s_w) / fm_mod_f1f2f5(s_w, f1, f2, f5, mu_f, u_t))\n",
    "#     fg = ((krf / mug[0, 0]) / (krw(s_w) / muw[0, 0] + krf / mug[0, 0]))\n",
    "#     return fg\n",
    "\n",
    "\n",
    "# def muf_mod_f1f2f5(s_w, f1, f2, f5, mu_f, u_t):\n",
    "#     krf = (krg(s_w) / fm_mod_f1f2f5(s_w, f1, f2, f5, mu_f, u_t))\n",
    "#     mu_foam = (1 / (krw(s_w) / muw[0, 0] + krf / mug[0, 0]))\n",
    "#     return mu_foam"
   ]
  },
  {
   "cell_type": "code",
   "execution_count": 39,
   "metadata": {},
   "outputs": [
    {
     "data": {
      "image/png": "[encoded data removed]",
      "text/plain": [
       "<Figure size 864x576 with 1 Axes>"
      ]
     },
     "metadata": {},
     "output_type": "display_data"
    }
   ],
   "source": [
    "# Fit visualization\n",
    "sw_val1 = np.append(np.linspace(0.0, np.min(sw_exp), 300),\n",
    "                     np.linspace(np.min(sw_exp)+np.finfo(float).eps, np.max(sw_exp), 300))\n",
    "sw_val = np.append(sw_val1, np.linspace(np.max(sw_exp) + np.finfo(float).eps, 1.0, 300))\n",
    "\n",
    "n1 = np.size(sw_val)\n",
    "muf_opt = np.zeros((n1, 1))\n",
    "u_min = np.min(data['u_exp'])\n",
    "u_max = np.max(data['u_exp'])\n",
    "u_ave = float(np.mean(data['u_exp']))\n",
    "\n",
    "F12 = [fmsurf, foam_param[5, 0]]\n",
    "F22 = [foam_param[0, 0], foam_param[1, 0], foam_param[2, 0]]\n",
    "F52 = [foam_param[3, 0], foam_param[4, 0]]\n",
    "\n",
    "for i in range(0, n1):\n",
    "    sw_p = float(sw_val[i])\n",
    "\n",
    "    def fmu2(x):\n",
    "        return float(x - muf_mod_f1f2f5(sw_p, F12, F22, F52, x, u_ave))\n",
    "       \n",
    "    sol = optimize.root(fmu2, 0.9)\n",
    "    muf_opt[i, 0] = sol.x\n",
    "\n",
    "\n",
    "fg_opt = fg_mod_f2f5(sw_val, F22, F52, muf_opt, u_ave)\n",
    "muf_mod_opt = muf_mod_f2f5(sw_val, F22, F52, muf_opt, u_ave)\n",
    "\n",
    "plt.figure(figsize=[12,8])\n",
    "plt.plot(fg_opt, muf_mod_opt, \"k--\", linewidth=2,label='model')\n",
    "plt.plot(data['fg_exp'], data['mu_exp'], \"o\",markersize =12,label='experimental data')\n",
    "plt.ylabel(\"Foam apparent viscosity [Pa s]\",fontsize=15)\n",
    "plt.xlabel(\"Gas fractional flow [-]\",fontsize=15)\n",
    "plt.grid()\n",
    "plt.tight_layout()\n",
    "plt.legend(fontsize=15)\n",
    "\n",
    "plt.show()\n",
    "\n"
   ]
  },
  {
   "cell_type": "code",
   "execution_count": null,
   "metadata": {
    "collapsed": true
   },
   "outputs": [],
   "source": []
  }
 ],
 "metadata": {
  "kernelspec": {
   "display_name": "Python 2",
   "language": "python",
   "name": "python2"
  },
  "language_info": {
   "codemirror_mode": {
    "name": "ipython",
    "version": 2
   },
   "file_extension": ".py",
   "mimetype": "text/x-python",
   "name": "python",
   "nbconvert_exporter": "python",
   "pygments_lexer": "ipython2",
   "version": "2.7.14"
  }
 },
 "nbformat": 4,
 "nbformat_minor": 2
}
